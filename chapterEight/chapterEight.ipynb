{
 "cells": [
  {
   "cell_type": "code",
   "execution_count": 6,
   "metadata": {},
   "outputs": [],
   "source": [
    "import re\n",
    "import pandas as pd"
   ]
  },
  {
   "cell_type": "code",
   "execution_count": 5,
   "metadata": {},
   "outputs": [],
   "source": [
    "# txtfile1= open(\"./classification1.txt\",'r').read()\n",
    "# txtfile2= open(\"./classification2.txt\",'r').read()\n"
   ]
  },
  {
   "cell_type": "code",
   "execution_count": 12,
   "metadata": {},
   "outputs": [
    {
     "data": {
      "text/plain": [
       "'              precision    recall  f1-score   support\\n\\n           0       0.90      0.95      0.92        19\\n           1       0.91      0.77      0.83        13\\n           2       0.86      0.92      0.89        13\\n\\n    accuracy                           0.89        45\\n   macro avg       0.89      0.88      0.88        45\\nweighted avg       0.89      0.89      0.89        45'"
      ]
     },
     "execution_count": 12,
     "metadata": {},
     "output_type": "execute_result"
    }
   ],
   "source": [
    "with open(\"./classification1.txt\",'r') as fyle:\n",
    "    txtfile1 = fyle.readlines()\n",
    "\n",
    "whole_txt1= ''.join(txtfile1)\n",
    "whole_txt1"
   ]
  },
  {
   "cell_type": "code",
   "execution_count": 16,
   "metadata": {},
   "outputs": [
    {
     "name": "stdout",
     "output_type": "stream",
     "text": [
      "None\n"
     ]
    }
   ],
   "source": [
    "pattern=r'accuracy\\s*=\\s*([\\d.]+)'\n",
    "\n",
    "\n",
    "match= re.search(pattern,whole_txt1)\n",
    "print(match)"
   ]
  }
 ],
 "metadata": {
  "kernelspec": {
   "display_name": "Python 3",
   "language": "python",
   "name": "python3"
  },
  "language_info": {
   "codemirror_mode": {
    "name": "ipython",
    "version": 3
   },
   "file_extension": ".py",
   "mimetype": "text/x-python",
   "name": "python",
   "nbconvert_exporter": "python",
   "pygments_lexer": "ipython3",
   "version": "3.10.12"
  },
  "orig_nbformat": 4
 },
 "nbformat": 4,
 "nbformat_minor": 2
}
