{
 "cells": [
  {
   "cell_type": "code",
   "execution_count": 1,
   "metadata": {},
   "outputs": [],
   "source": [
    "import re"
   ]
  },
  {
   "cell_type": "code",
   "execution_count": 11,
   "metadata": {},
   "outputs": [],
   "source": [
    "def validator(list, pattern):\n",
    "    results = []\n",
    "    for expresion in list:\n",
    "        results.append(re.match(pattern,expresion)) \n",
    "\n",
    "    return results"
   ]
  },
  {
   "cell_type": "markdown",
   "metadata": {},
   "source": [
    "### Question 1\n"
   ]
  },
  {
   "cell_type": "markdown",
   "metadata": {},
   "source": [
    "Write a regular expression for the set of all alphabetic strings.\n",
    "\n",
    "- Valid: cake, HeLLo WorLd, Llanfairpwllgwyngyllgogerychwyrndrobwllllantysiliogogogoch, empty string\n",
    "- Invalid: 123, backstreet_boys, mamboNumber5"
   ]
  },
  {
   "cell_type": "code",
   "execution_count": 12,
   "metadata": {},
   "outputs": [],
   "source": [
    "valid = ['cake', 'HeLLo WorLd', 'Llanfairpwllgwyngyllgogerychwyrndrobwllllantysiliogogogoch','']\n",
    "invalid = ['123', 'backstreet_boys', 'mamboNumber5']\n"
   ]
  },
  {
   "cell_type": "code",
   "execution_count": 13,
   "metadata": {},
   "outputs": [
    {
     "data": {
      "text/plain": [
       "[None, None, None]"
      ]
     },
     "execution_count": 13,
     "metadata": {},
     "output_type": "execute_result"
    }
   ],
   "source": [
    "pattern = r'^[a-zA-Z\\s]*$'\n",
    "\n",
    "validator(valid,pattern)\n",
    "validator(invalid,pattern)"
   ]
  },
  {
   "cell_type": "markdown",
   "metadata": {},
   "source": [
    "### Question 2"
   ]
  },
  {
   "cell_type": "markdown",
   "metadata": {},
   "source": [
    "Write a regular expression for the set of all lower case alphabetic strings ending in a \"b\".\n",
    "\n",
    "- Valid: bob, climb, door knob\n",
    "- Invalid: Bob, britney spears, WANNABE"
   ]
  },
  {
   "cell_type": "code",
   "execution_count": 14,
   "metadata": {},
   "outputs": [],
   "source": [
    "valid = ['bob', 'climb', 'door knob']\n",
    "invalid= ['Bob', 'britney spears', 'WANNABE']"
   ]
  },
  {
   "cell_type": "code",
   "execution_count": 18,
   "metadata": {},
   "outputs": [
    {
     "data": {
      "text/plain": [
       "[None, None, None]"
      ]
     },
     "execution_count": 18,
     "metadata": {},
     "output_type": "execute_result"
    }
   ],
   "source": [
    "pattern = r'^[a-z\\s]*b$'\n",
    "\n",
    "# validator(valid,pattern)\n",
    "validator(invalid,pattern)"
   ]
  },
  {
   "cell_type": "markdown",
   "metadata": {},
   "source": [
    "### Question 3"
   ]
  },
  {
   "cell_type": "markdown",
   "metadata": {},
   "source": [
    "Write a regular expression for the set of lowercase letters where there must be an \"a\" at every odd position in the string.\n",
    "\n",
    "- Valid: a, aca, aaaba, acafa, aaaaaa, empty string\n",
    "- Invalid: b, baba, acda, aeaaf"
   ]
  },
  {
   "cell_type": "code",
   "execution_count": 47,
   "metadata": {},
   "outputs": [
    {
     "data": {
      "text/plain": [
       "[None, None, None, None]"
      ]
     },
     "execution_count": 47,
     "metadata": {},
     "output_type": "execute_result"
    }
   ],
   "source": [
    "valid=['a', 'aca', 'aaaba', 'acafa', 'aaaaaa', '','ab']\n",
    "invalid= ['b', 'baba', 'acda', 'aeaaf']\n",
    "pattern = r'^(a[a-z])*a?$'\n",
    "# pattern= r'^(a([a-z]a)*)?$'\n",
    "\n",
    "# validator(valid,pattern)\n",
    "validator(invalid,pattern)"
   ]
  },
  {
   "cell_type": "markdown",
   "metadata": {},
   "source": [
    "### Question 4"
   ]
  },
  {
   "cell_type": "markdown",
   "metadata": {},
   "source": [
    "Write a regular expression for the set of all strings from the alphabet {a,b} such that each \"a\" is preceded by and immediately followed by a \"b\".\n",
    "\n",
    "- Valid: bab, babbab, bababababab, bbbabbbbbbabb, bbbb, bb, b, empty string\n",
    "- Invalid: a, abba, bbaba, aaa\n",
    "\n",
    "\n",
    "Hint: This one might be a bit tough! Like programming, break this down into smaller subproblems! Try covering the simplest case first (empty string), then add in the \"b\"s (without \"a\"s, which is valid), then include the cases with \"a\" while satisfying the \"bab\" constraint."
   ]
  },
  {
   "cell_type": "code",
   "execution_count": 83,
   "metadata": {},
   "outputs": [
    {
     "data": {
      "text/plain": [
       "[None, None, None, None]"
      ]
     },
     "execution_count": 83,
     "metadata": {},
     "output_type": "execute_result"
    }
   ],
   "source": [
    "Valid=['bab', 'babbab', 'bababababab', 'bbbabbbbbbabb', 'bbbb', 'bb', 'b', '']\n",
    "Invalid= ['a', 'abba', 'bbaba', 'aaa']\n",
    "\n",
    "# pattern = r'^(b+a?)*b$'\n",
    "# pattern = r'^(b*ab)*b*$'\n",
    "pattern = r'^(b+(ab+)*)?$'\n",
    "\n",
    "# validator(Valid,pattern)\n",
    "validator(Invalid,pattern)"
   ]
  },
  {
   "cell_type": "markdown",
   "metadata": {},
   "source": [
    "## Building parsers"
   ]
  },
  {
   "cell_type": "markdown",
   "metadata": {},
   "source": [
    "### Question 1"
   ]
  },
  {
   "cell_type": "markdown",
   "metadata": {},
   "source": [
    "Write a regular expression representing valid Python identifiers. Remember that Python identifiers can consist of upper and lower letters, digits, or underscores (_), and must start with a letter or an underscore. For simplicity, Python keywords like if are allowed.\n",
    "\n",
    "- Valid: my_variable123, _12is_thisvalid, for, if\n",
    "- Invalid: 123abc, 1, haha!, empty string"
   ]
  },
  {
   "cell_type": "code",
   "execution_count": 72,
   "metadata": {},
   "outputs": [
    {
     "data": {
      "text/plain": [
       "[<re.Match object; span=(0, 14), match='my_variable123'>,\n",
       " <re.Match object; span=(0, 15), match='_12is_thisvalid'>,\n",
       " <re.Match object; span=(0, 3), match='for'>,\n",
       " <re.Match object; span=(0, 2), match='if'>]"
      ]
     },
     "execution_count": 72,
     "metadata": {},
     "output_type": "execute_result"
    }
   ],
   "source": [
    "Valid= ['my_variable123', '_12is_thisvalid', 'for', 'if']\n",
    "Invalid= ['123abc', '1', 'haha !', '']\n",
    "  \n",
    "pattern = r'^[a-zA-Z_]\\w*$'\n",
    "\n",
    "validator(Valid,pattern)\n",
    "# validator(Invalid,pattern)"
   ]
  },
  {
   "cell_type": "markdown",
   "metadata": {},
   "source": [
    "### Question 2\n"
   ]
  },
  {
   "cell_type": "markdown",
   "metadata": {},
   "source": [
    "Write a regular expression representing valid Python assignment statements, i.e. LHS = RHS. For simplicity, assume that the LHS can be any valid identifier or keyword (as above). The RHS can be either an integer or a float (positive or negative). The spaces before and after = are optional.\n",
    "\n",
    "- Valid: my_variable123 = 5, if= 1.23, x=2., y =0.678, abc = -2.1\n",
    "- Invalid: 1 = 4, my_var = your_var, var, x + 5\n",
    "\n",
    "\n",
    "Hint: It can get a bit messy and hacky! It’s fine - that’s how regular expressions are!"
   ]
  },
  {
   "cell_type": "code",
   "execution_count": 76,
   "metadata": {},
   "outputs": [
    {
     "data": {
      "text/plain": [
       "[None, None, None, None]"
      ]
     },
     "execution_count": 76,
     "metadata": {},
     "output_type": "execute_result"
    }
   ],
   "source": [
    "Valid= ['my_variable123 = 5', 'if= 1.23', 'x=2.', 'y =0.678', 'abc = -2.1']\n",
    "Invalid= ['1 = 4', 'my_var = your_var', 'var', 'x + 5']\n",
    "\n",
    "pattern = r'^[a-zA-Z_]\\w*\\s*=\\s*-?\\d+(\\.\\d*)?\\s*$' \n",
    "# pattern = r'^[A-Za-z_](\\w)* ?= ?[+-]?\\d+(.\\d*)?$' \n",
    "\n",
    "# validator(Valid,pattern)\n",
    "validator(Invalid,pattern)"
   ]
  },
  {
   "cell_type": "markdown",
   "metadata": {},
   "source": [
    "### Question 3\n"
   ]
  },
  {
   "cell_type": "markdown",
   "metadata": {},
   "source": [
    "Write a regular expression representing valid Python comparison expressions, e.g. LHS == RHS. For simplicity, assume that the valid operators are ==, <=, >=, <, >, and !=. Also assume that both LHS and RHS can take either a Python identifier+keyword or a positive integer. Again, white spaces before and after the operator as optional.\n",
    "\n",
    "- Valid: 12 == 14, x >=2, for< if, 15!=age\n",
    "- Invalid: x = 2, av<= -5, 123abc > abc123, hello, 5+1"
   ]
  },
  {
   "cell_type": "code",
   "execution_count": 81,
   "metadata": {},
   "outputs": [
    {
     "data": {
      "text/plain": [
       "[<re.Match object; span=(0, 8), match='12 == 14'>,\n",
       " <re.Match object; span=(0, 5), match='x >=2'>,\n",
       " None,\n",
       " <re.Match object; span=(0, 7), match='15!=age'>]"
      ]
     },
     "execution_count": 81,
     "metadata": {},
     "output_type": "execute_result"
    }
   ],
   "source": [
    "Valid= ['12 == 14', 'x >=2','for< if', '15!=age']\n",
    "Invalid= ['x = 2', 'av<= -5', '123abc > abc123', 'hello', '5+1']\n",
    "\n",
    "pattern = r'^\\w*\\s*(?:[<>=]{2,3}|\\!\\=)\\s*\\w+$' \n",
    "# pattern = r'^([A-Za-z_](\\w)*|\\d+) ?(==|!=|<=?|>=?) ?([A-Za-z_](\\w)*|\\d+)$'\n",
    "\n",
    "validator(Valid,pattern)\n",
    "# validator(Invalid,pattern)"
   ]
  },
  {
   "cell_type": "markdown",
   "metadata": {},
   "source": [
    "## Email address parser"
   ]
  },
  {
   "cell_type": "markdown",
   "metadata": {},
   "source": [
    "### Task 4"
   ]
  },
  {
   "cell_type": "markdown",
   "metadata": {},
   "source": [
    "A final applied task: develop a regular expression to validate a given email address.\n",
    "\n",
    "For simplicity, we will use these rules:\n",
    "\n",
    "- An email address is in the form USER@HOST.EXT\n",
    "- USER can be made up of one or more uppercase or lowercase letters, digits, underscores, dots (.), +, ? and -.\n",
    "- HOST can be made up of one or more uppercase or lowercase letters, digits, or a hyphen (-). It must not end with a hyphen (-), and must not be made up of only digits.\n",
    "- EXT can be either co, com, or org.\n",
    "\n",
    "Stress test your regular expression with good and bad cases.\n",
    "\n",
    "Hint: break down the problem into smaller subproblems! Tackle EXT first, then USER, then HOST."
   ]
  },
  {
   "cell_type": "code",
   "execution_count": null,
   "metadata": {},
   "outputs": [],
   "source": [
    "pattern = r'^[\\w*.?+-]+@([a-zA-Z0-9])\\.(co|com|org)$'\n",
    "# pattern = r'[0-9a-zA-Z_.+?-]+@[0-9A-Za-z-]*[A-Za-z][0-9A-Za-z]\\.(com?|org)'"
   ]
  }
 ],
 "metadata": {
  "kernelspec": {
   "display_name": "Python 3",
   "language": "python",
   "name": "python3"
  },
  "language_info": {
   "codemirror_mode": {
    "name": "ipython",
    "version": 3
   },
   "file_extension": ".py",
   "mimetype": "text/x-python",
   "name": "python",
   "nbconvert_exporter": "python",
   "pygments_lexer": "ipython3",
   "version": "3.10.12"
  },
  "orig_nbformat": 4
 },
 "nbformat": 4,
 "nbformat_minor": 2
}
