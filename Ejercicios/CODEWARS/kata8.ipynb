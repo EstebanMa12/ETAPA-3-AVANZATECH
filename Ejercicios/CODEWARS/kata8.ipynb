{
 "cells": [
  {
   "cell_type": "markdown",
   "metadata": {},
   "source": [
    "\n",
    "Hey Codewarrior!\n",
    "\n",
    "You already implemented a Cube class, but now we need your help again! I'm talking about constructors. We don't have one. Let's code two: One taking an integer and one handling no given arguments!\n",
    "\n",
    "Also we got a problem with negative values. Correct the code so negative values will be switched to positive ones!\n",
    "\n",
    "The constructor taking no arguments should assign 0 to Cube's Side property."
   ]
  },
  {
   "cell_type": "code",
   "execution_count": null,
   "metadata": {},
   "outputs": [],
   "source": [
    "class Cube(object):\n",
    "    def __init__(self,side=0):\n",
    "        self.__side=abs(side)\n",
    "    # Define a constructor which takes one integer, or handles no args\n",
    "    \n",
    "    def get_side(self):\n",
    "        \"\"\"Return the side of the Cube\"\"\"\n",
    "        return self.__side\n",
    "\n",
    "    def set_side(self, new_side):\n",
    "        \"\"\"Set the value of the Cube's side.\"\"\"\n",
    "        self.__side = abs(new_side)"
   ]
  }
 ],
 "metadata": {
  "language_info": {
   "name": "python"
  },
  "orig_nbformat": 4
 },
 "nbformat": 4,
 "nbformat_minor": 2
}
