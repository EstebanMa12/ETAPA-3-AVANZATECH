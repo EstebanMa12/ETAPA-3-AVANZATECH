{
 "cells": [
  {
   "cell_type": "code",
   "execution_count": 6,
   "metadata": {},
   "outputs": [],
   "source": [
    "class Student:\n",
    "\n",
    "    def __init__(self, first_name, last_name, grades=None):\n",
    "        self.first_name = first_name\n",
    "        self.last_name = last_name\n",
    "        self.grades = grades if grades is not None else []\n",
    "    \n",
    "    def add_grade(self, grade):\n",
    "        self.grades.append(grade)\n",
    "    \n",
    "    def get_average(self):\n",
    "        return sum(self.grades) / len(self.grades)"
   ]
  },
  {
   "cell_type": "code",
   "execution_count": 7,
   "metadata": {},
   "outputs": [
    {
     "data": {
      "text/plain": [
       "[98]"
      ]
     },
     "execution_count": 7,
     "metadata": {},
     "output_type": "execute_result"
    }
   ],
   "source": [
    "someStudent = Student('John','Doe')\n",
    "someStudent.add_grade(98)\n",
    "someStudent.grades"
   ]
  },
  {
   "cell_type": "code",
   "execution_count": 8,
   "metadata": {},
   "outputs": [
    {
     "data": {
      "text/plain": [
       "[45]"
      ]
     },
     "execution_count": 8,
     "metadata": {},
     "output_type": "execute_result"
    }
   ],
   "source": [
    "otherStudent = Student('Maria','Becerra')\n",
    "otherStudent.add_grade(45)\n",
    "otherStudent.grades"
   ]
  },
  {
   "cell_type": "markdown",
   "metadata": {},
   "source": [
    "In this kata you will try to recreate a simple code-breaking game. It is called \"Bulls and Cows\". The rules are quite simple:\n",
    "\n",
    "The computer generates a secret number consisting of 4 distinct digits. Then the player, in 8 turns, tries to guess the number. As a result he receives from the computer the number of matches. If the matching digits are in their right positions, they are \"bulls\", if in different positions, they are \"cows\".\n",
    "\n",
    "To implement this you will use:\n",
    "\n",
    "1)a constructor (int) - initiates the game, receives a number and then sets it as the secret number.\n",
    "\n",
    "2)and a function \"compare with (int)\" - compares the given and the secret numbers and then returns a String formated as \"X bull/bulls and Y cow/cows\".\n",
    "\n",
    "However, there are some notes:\n",
    "\n",
    "1)if the given number matches the secret number instead of returning \"4 bulls and 0 cows\", return \"You win!\". Any next attempts to play the game (even with invalid numbers) should return \"You already won!\"\n",
    "\n",
    "2)if the amount of turns in this game is more than 8 (invalid turns are not counted) the returned String should be \"Sorry, you're out of turns!\".\n",
    "\n",
    "3)After checking the turns you should validate the given number. If it does not correspond to the conditions you should throw an exception :"
   ]
  },
  {
   "cell_type": "code",
   "execution_count": 10,
   "metadata": {},
   "outputs": [
    {
     "name": "stdout",
     "output_type": "stream",
     "text": [
      "<class 'list'>\n",
      "(0, '1')\n",
      "(1, '2')\n",
      "(2, '3')\n",
      "(3, '4')\n"
     ]
    }
   ],
   "source": [
    "n = 1234\n",
    "n_str=str(n)\n",
    "print(list)\n",
    "for idx,number in enumerate(n_str):\n",
    "    print(number)"
   ]
  }
 ],
 "metadata": {
  "kernelspec": {
   "display_name": "Python 3",
   "language": "python",
   "name": "python3"
  },
  "language_info": {
   "codemirror_mode": {
    "name": "ipython",
    "version": 3
   },
   "file_extension": ".py",
   "mimetype": "text/x-python",
   "name": "python",
   "nbconvert_exporter": "python",
   "pygments_lexer": "ipython3",
   "version": "3.10.12"
  },
  "orig_nbformat": 4
 },
 "nbformat": 4,
 "nbformat_minor": 2
}
