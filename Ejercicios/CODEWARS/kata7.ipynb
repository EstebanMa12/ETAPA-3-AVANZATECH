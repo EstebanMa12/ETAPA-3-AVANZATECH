{
 "cells": [
  {
   "cell_type": "code",
   "execution_count": 6,
   "metadata": {},
   "outputs": [],
   "source": [
    "class Student:\n",
    "\n",
    "    def __init__(self, first_name, last_name, grades=None):\n",
    "        self.first_name = first_name\n",
    "        self.last_name = last_name\n",
    "        self.grades = grades if grades is not None else []\n",
    "    \n",
    "    def add_grade(self, grade):\n",
    "        self.grades.append(grade)\n",
    "    \n",
    "    def get_average(self):\n",
    "        return sum(self.grades) / len(self.grades)"
   ]
  },
  {
   "cell_type": "code",
   "execution_count": 7,
   "metadata": {},
   "outputs": [
    {
     "data": {
      "text/plain": [
       "[98]"
      ]
     },
     "execution_count": 7,
     "metadata": {},
     "output_type": "execute_result"
    }
   ],
   "source": [
    "someStudent = Student('John','Doe')\n",
    "someStudent.add_grade(98)\n",
    "someStudent.grades"
   ]
  },
  {
   "cell_type": "code",
   "execution_count": 8,
   "metadata": {},
   "outputs": [
    {
     "data": {
      "text/plain": [
       "[45]"
      ]
     },
     "execution_count": 8,
     "metadata": {},
     "output_type": "execute_result"
    }
   ],
   "source": [
    "otherStudent = Student('Maria','Becerra')\n",
    "otherStudent.add_grade(45)\n",
    "otherStudent.grades"
   ]
  }
 ],
 "metadata": {
  "kernelspec": {
   "display_name": "Python 3",
   "language": "python",
   "name": "python3"
  },
  "language_info": {
   "codemirror_mode": {
    "name": "ipython",
    "version": 3
   },
   "file_extension": ".py",
   "mimetype": "text/x-python",
   "name": "python",
   "nbconvert_exporter": "python",
   "pygments_lexer": "ipython3",
   "version": "3.10.12"
  },
  "orig_nbformat": 4
 },
 "nbformat": 4,
 "nbformat_minor": 2
}
