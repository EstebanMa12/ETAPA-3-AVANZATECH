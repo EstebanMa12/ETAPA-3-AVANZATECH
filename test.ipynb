{
 "cells": [
  {
   "cell_type": "code",
   "execution_count": 2,
   "metadata": {},
   "outputs": [],
   "source": [
    "import random"
   ]
  },
  {
   "cell_type": "code",
   "execution_count": 13,
   "metadata": {},
   "outputs": [
    {
     "data": {
      "text/plain": [
       "20"
      ]
     },
     "execution_count": 13,
     "metadata": {},
     "output_type": "execute_result"
    }
   ],
   "source": [
    "length=20\n",
    "random_code=int(\"\".join(f'{random.randint(0,9)}' for a in range(length)))\n",
    "len(str(random_code))"
   ]
  },
  {
   "cell_type": "code",
   "execution_count": 14,
   "metadata": {},
   "outputs": [
    {
     "name": "stdout",
     "output_type": "stream",
     "text": [
      "1\n",
      "1\n",
      "2\n",
      "2\n",
      "2\n"
     ]
    }
   ],
   "source": [
    "class Person:\n",
    "    count = 0  # class attribute\n",
    "    \n",
    "    def __init__(self, name, age):\n",
    "        self.name = name      # instance attribute\n",
    "        self.age = age        # instance attribute\n",
    "        Person.count += 1\n",
    "\n",
    "lecturer = Person(\"Josiah\", 20)\n",
    "print(Person.count)\n",
    "print(lecturer.count)\n",
    "\n",
    "assistant = Person(\"Luca\", 18)\n",
    "print(Person.count)\n",
    "print(lecturer.count)\n",
    "print(assistant.count)"
   ]
  },
  {
   "cell_type": "code",
   "execution_count": 15,
   "metadata": {},
   "outputs": [
    {
     "name": "stdout",
     "output_type": "stream",
     "text": [
      "Celine Dion\n",
      "55\n"
     ]
    }
   ],
   "source": [
    "from datetime import date\n",
    "\n",
    "class Person:\n",
    "   def __init__(self, name, age):\n",
    "       self.name = name\n",
    "       self.age = age\n",
    "\n",
    "   @classmethod\n",
    "   def create_from_birth_year(cls, name, birth_year):\n",
    "      return cls(name, date.today().year - birth_year)\n",
    "\n",
    "singer = Person.create_from_birth_year(\"Celine Dion\", 1968)\n",
    "print(singer.name)\n",
    "print(singer.age)"
   ]
  },
  {
   "cell_type": "code",
   "execution_count": 16,
   "metadata": {},
   "outputs": [
    {
     "name": "stdout",
     "output_type": "stream",
     "text": [
      "False\n",
      "True\n",
      "Alice\n",
      "Bob\n"
     ]
    }
   ],
   "source": [
    "class Email:\n",
    "    \"\"\" Email class that can send emails and print recipients.\n",
    "\n",
    "        Yes, you should also document your classes with docstrings!\n",
    "    \"\"\"\n",
    "\n",
    "    def __init__(self, recipients): \n",
    "        self.is_sent = False \n",
    "        self.recipients = recipients\n",
    "\n",
    "    def send(self): \n",
    "        self.is_sent = True\n",
    "\n",
    "    def print_recipients(self): \n",
    "        for recipient in self.recipients: \n",
    "            print(recipient)\n",
    "\n",
    "email = Email([\"Alice\", \"Bob\"]) \n",
    "print(email.is_sent)\n",
    "email.send() \n",
    "print(email.is_sent)\n",
    "email.print_recipients()"
   ]
  },
  {
   "cell_type": "code",
   "execution_count": 2,
   "metadata": {},
   "outputs": [
    {
     "name": "stdout",
     "output_type": "stream",
     "text": [
      "dict_keys(['00-01-30', '00-02-11', '00-05-67', '00-09-88'])\n",
      "<class 'dict_keys'>\n",
      "dict_values(['Ali', 'Simon', 'Francesca', 'Cho'])\n",
      "<class 'dict_values'>\n",
      "dict_items([('00-01-30', 'Ali'), ('00-02-11', 'Simon'), ('00-05-67', 'Francesca'), ('00-09-88', 'Cho')])\n",
      "<class 'dict_items'>\n",
      "[('00-01-30', 'Ali'), ('00-02-11', 'Simon'), ('00-05-67', 'Francesca'), ('00-09-88', 'Cho')]\n",
      "('00-01-30', 'Ali')\n"
     ]
    }
   ],
   "source": [
    "student_dict = {\"00-01-30\": \"Ali\", \"00-02-11\": \"Simon\", \n",
    "                \"00-05-67\": \"Francesca\", \"00-09-88\": \"Cho\"\n",
    "               }\n",
    "ids = student_dict.keys()\n",
    "print(ids)\n",
    "print(type(ids))\n",
    "#ids[0]              # Can you do this? Why not? What does the error say?\n",
    "names = student_dict.values()\n",
    "print(names)\n",
    "print(type(names))\n",
    "pairs = student_dict.items()\n",
    "print(pairs)\n",
    "print(type(pairs))\n",
    "entries = list(pairs)\n",
    "print(entries)\n",
    "print(entries[0])\n"
   ]
  }
 ],
 "metadata": {
  "kernelspec": {
   "display_name": "Python 3",
   "language": "python",
   "name": "python3"
  },
  "language_info": {
   "codemirror_mode": {
    "name": "ipython",
    "version": 3
   },
   "file_extension": ".py",
   "mimetype": "text/x-python",
   "name": "python",
   "nbconvert_exporter": "python",
   "pygments_lexer": "ipython3",
   "version": "3.10.12"
  },
  "orig_nbformat": 4
 },
 "nbformat": 4,
 "nbformat_minor": 2
}
